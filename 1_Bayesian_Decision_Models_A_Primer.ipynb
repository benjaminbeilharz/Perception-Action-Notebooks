{
  "nbformat": 4,
  "nbformat_minor": 0,
  "metadata": {
    "colab": {
      "provenance": [],
      "collapsed_sections": [],
      "toc_visible": true,
      "include_colab_link": true
    },
    "kernelspec": {
      "name": "python3",
      "display_name": "Python 3"
    },
    "language_info": {
      "name": "python"
    },
    "widgets": {
      "application/vnd.jupyter.widget-state+json": {
        "10d1b157967348f5bbf8936b0b8b5462": {
          "model_module": "@jupyter-widgets/controls",
          "model_name": "HBoxModel",
          "model_module_version": "1.5.0",
          "state": {
            "_view_name": "HBoxView",
            "_dom_classes": [],
            "_model_name": "HBoxModel",
            "_view_module": "@jupyter-widgets/controls",
            "_model_module_version": "1.5.0",
            "_view_count": null,
            "_view_module_version": "1.5.0",
            "box_style": "",
            "layout": "IPY_MODEL_feb61f97f5e1435abefbe52126b077e7",
            "_model_module": "@jupyter-widgets/controls",
            "children": [
              "IPY_MODEL_0369b259add34ff78121036ee3120bcb",
              "IPY_MODEL_1906626d8a454eb5b15d5e8e9da5dbd1"
            ]
          }
        },
        "feb61f97f5e1435abefbe52126b077e7": {
          "model_module": "@jupyter-widgets/base",
          "model_name": "LayoutModel",
          "model_module_version": "1.2.0",
          "state": {
            "_view_name": "LayoutView",
            "grid_template_rows": null,
            "right": null,
            "justify_content": null,
            "_view_module": "@jupyter-widgets/base",
            "overflow": null,
            "_model_module_version": "1.2.0",
            "_view_count": null,
            "flex_flow": null,
            "width": null,
            "min_width": null,
            "border": null,
            "align_items": null,
            "bottom": null,
            "_model_module": "@jupyter-widgets/base",
            "top": null,
            "grid_column": null,
            "overflow_y": null,
            "overflow_x": null,
            "grid_auto_flow": null,
            "grid_area": null,
            "grid_template_columns": null,
            "flex": null,
            "_model_name": "LayoutModel",
            "justify_items": null,
            "grid_row": null,
            "max_height": null,
            "align_content": null,
            "visibility": null,
            "align_self": null,
            "height": null,
            "min_height": null,
            "padding": null,
            "grid_auto_rows": null,
            "grid_gap": null,
            "max_width": null,
            "order": null,
            "_view_module_version": "1.2.0",
            "grid_template_areas": null,
            "object_position": null,
            "object_fit": null,
            "grid_auto_columns": null,
            "margin": null,
            "display": null,
            "left": null
          }
        },
        "0369b259add34ff78121036ee3120bcb": {
          "model_module": "@jupyter-widgets/controls",
          "model_name": "VBoxModel",
          "model_module_version": "1.5.0",
          "state": {
            "_view_name": "VBoxView",
            "_dom_classes": [],
            "_model_name": "VBoxModel",
            "_view_module": "@jupyter-widgets/controls",
            "_model_module_version": "1.5.0",
            "_view_count": null,
            "_view_module_version": "1.5.0",
            "box_style": "",
            "layout": "IPY_MODEL_421d85cbef0347b08d5aa3d7b9e63ea0",
            "_model_module": "@jupyter-widgets/controls",
            "children": [
              "IPY_MODEL_81efe3cbb0a3473b9971a689a0b4e993",
              "IPY_MODEL_ec54347e57f746bb98c45865cdd6b6a2",
              "IPY_MODEL_70a3ba3144b74026982e37d0bbc77fde"
            ]
          }
        },
        "1906626d8a454eb5b15d5e8e9da5dbd1": {
          "model_module": "@jupyter-widgets/controls",
          "model_name": "VBoxModel",
          "model_module_version": "1.5.0",
          "state": {
            "_view_name": "VBoxView",
            "_dom_classes": [],
            "_model_name": "VBoxModel",
            "_view_module": "@jupyter-widgets/controls",
            "_model_module_version": "1.5.0",
            "_view_count": null,
            "_view_module_version": "1.5.0",
            "box_style": "",
            "layout": "IPY_MODEL_4d4653aadc2548b987bf4b369cd10754",
            "_model_module": "@jupyter-widgets/controls",
            "children": [
              "IPY_MODEL_2a7ef673671e4dcbaa9d876e0f585bc2",
              "IPY_MODEL_d47994eabfe84325ae0457d0ee99f6a2",
              "IPY_MODEL_e4b96fe4ca8847e59e42b422ffb4d363"
            ]
          }
        },
        "421d85cbef0347b08d5aa3d7b9e63ea0": {
          "model_module": "@jupyter-widgets/base",
          "model_name": "LayoutModel",
          "model_module_version": "1.2.0",
          "state": {
            "_view_name": "LayoutView",
            "grid_template_rows": null,
            "right": null,
            "justify_content": null,
            "_view_module": "@jupyter-widgets/base",
            "overflow": null,
            "_model_module_version": "1.2.0",
            "_view_count": null,
            "flex_flow": null,
            "width": null,
            "min_width": null,
            "border": null,
            "align_items": null,
            "bottom": null,
            "_model_module": "@jupyter-widgets/base",
            "top": null,
            "grid_column": null,
            "overflow_y": null,
            "overflow_x": null,
            "grid_auto_flow": null,
            "grid_area": null,
            "grid_template_columns": null,
            "flex": null,
            "_model_name": "LayoutModel",
            "justify_items": null,
            "grid_row": null,
            "max_height": null,
            "align_content": null,
            "visibility": null,
            "align_self": null,
            "height": null,
            "min_height": null,
            "padding": null,
            "grid_auto_rows": null,
            "grid_gap": null,
            "max_width": null,
            "order": null,
            "_view_module_version": "1.2.0",
            "grid_template_areas": null,
            "object_position": null,
            "object_fit": null,
            "grid_auto_columns": null,
            "margin": null,
            "display": null,
            "left": null
          }
        },
        "81efe3cbb0a3473b9971a689a0b4e993": {
          "model_module": "@jupyter-widgets/controls",
          "model_name": "LabelModel",
          "model_module_version": "1.5.0",
          "state": {
            "_view_name": "LabelView",
            "style": "IPY_MODEL_0d5bbd826240438d9458ece10b51d3fa",
            "_dom_classes": [],
            "description": "",
            "_model_name": "LabelModel",
            "placeholder": "​",
            "_view_module": "@jupyter-widgets/controls",
            "_model_module_version": "1.5.0",
            "value": "prior distribution",
            "_view_count": null,
            "_view_module_version": "1.5.0",
            "description_tooltip": null,
            "_model_module": "@jupyter-widgets/controls",
            "layout": "IPY_MODEL_cc57bf96f8d7447586d127e9370dcb05"
          }
        },
        "ec54347e57f746bb98c45865cdd6b6a2": {
          "model_module": "@jupyter-widgets/controls",
          "model_name": "FloatSliderModel",
          "model_module_version": "1.5.0",
          "state": {
            "_view_name": "FloatSliderView",
            "style": "IPY_MODEL_4eff55b2781742069c501ddbe4698f0c",
            "_dom_classes": [],
            "description": "µ_prior",
            "step": 0.01,
            "_model_name": "FloatSliderModel",
            "orientation": "horizontal",
            "max": 4,
            "_view_module": "@jupyter-widgets/controls",
            "_model_module_version": "1.5.0",
            "value": 3.21,
            "_view_count": null,
            "disabled": false,
            "_view_module_version": "1.5.0",
            "min": -4,
            "continuous_update": true,
            "readout_format": ".2f",
            "description_tooltip": null,
            "readout": true,
            "_model_module": "@jupyter-widgets/controls",
            "layout": "IPY_MODEL_f3b01b2b8397409b9dcdf88cbbcc0242"
          }
        },
        "70a3ba3144b74026982e37d0bbc77fde": {
          "model_module": "@jupyter-widgets/controls",
          "model_name": "FloatSliderModel",
          "model_module_version": "1.5.0",
          "state": {
            "_view_name": "FloatSliderView",
            "style": "IPY_MODEL_11a276dbbd82442b88fcf0288e827495",
            "_dom_classes": [],
            "description": "σ_prior",
            "step": 0.01,
            "_model_name": "FloatSliderModel",
            "orientation": "horizontal",
            "max": 2,
            "_view_module": "@jupyter-widgets/controls",
            "_model_module_version": "1.5.0",
            "value": 0.5,
            "_view_count": null,
            "disabled": false,
            "_view_module_version": "1.5.0",
            "min": 0.1,
            "continuous_update": true,
            "readout_format": ".2f",
            "description_tooltip": null,
            "readout": true,
            "_model_module": "@jupyter-widgets/controls",
            "layout": "IPY_MODEL_c00ac040b7dd4748a1fdb07ffcfbdf4e"
          }
        },
        "4d4653aadc2548b987bf4b369cd10754": {
          "model_module": "@jupyter-widgets/base",
          "model_name": "LayoutModel",
          "model_module_version": "1.2.0",
          "state": {
            "_view_name": "LayoutView",
            "grid_template_rows": null,
            "right": null,
            "justify_content": null,
            "_view_module": "@jupyter-widgets/base",
            "overflow": null,
            "_model_module_version": "1.2.0",
            "_view_count": null,
            "flex_flow": null,
            "width": null,
            "min_width": null,
            "border": null,
            "align_items": null,
            "bottom": null,
            "_model_module": "@jupyter-widgets/base",
            "top": null,
            "grid_column": null,
            "overflow_y": null,
            "overflow_x": null,
            "grid_auto_flow": null,
            "grid_area": null,
            "grid_template_columns": null,
            "flex": null,
            "_model_name": "LayoutModel",
            "justify_items": null,
            "grid_row": null,
            "max_height": null,
            "align_content": null,
            "visibility": null,
            "align_self": null,
            "height": null,
            "min_height": null,
            "padding": null,
            "grid_auto_rows": null,
            "grid_gap": null,
            "max_width": null,
            "order": null,
            "_view_module_version": "1.2.0",
            "grid_template_areas": null,
            "object_position": null,
            "object_fit": null,
            "grid_auto_columns": null,
            "margin": null,
            "display": null,
            "left": null
          }
        },
        "2a7ef673671e4dcbaa9d876e0f585bc2": {
          "model_module": "@jupyter-widgets/controls",
          "model_name": "LabelModel",
          "model_module_version": "1.5.0",
          "state": {
            "_view_name": "LabelView",
            "style": "IPY_MODEL_61f93177bcaf40a6858688450db7532a",
            "_dom_classes": [],
            "description": "",
            "_model_name": "LabelModel",
            "placeholder": "​",
            "_view_module": "@jupyter-widgets/controls",
            "_model_module_version": "1.5.0",
            "value": "likelihood distribution",
            "_view_count": null,
            "_view_module_version": "1.5.0",
            "description_tooltip": null,
            "_model_module": "@jupyter-widgets/controls",
            "layout": "IPY_MODEL_f14954ad0d7849dcb5e452edcaaae845"
          }
        },
        "d47994eabfe84325ae0457d0ee99f6a2": {
          "model_module": "@jupyter-widgets/controls",
          "model_name": "FloatSliderModel",
          "model_module_version": "1.5.0",
          "state": {
            "_view_name": "FloatSliderView",
            "style": "IPY_MODEL_0e60d3b13a094b83b6fff23828b5cbcc",
            "_dom_classes": [],
            "description": "µ_likelihood",
            "step": 0.01,
            "_model_name": "FloatSliderModel",
            "orientation": "horizontal",
            "max": 4,
            "_view_module": "@jupyter-widgets/controls",
            "_model_module_version": "1.5.0",
            "value": 4,
            "_view_count": null,
            "disabled": false,
            "_view_module_version": "1.5.0",
            "min": -4,
            "continuous_update": true,
            "readout_format": ".2f",
            "description_tooltip": null,
            "readout": true,
            "_model_module": "@jupyter-widgets/controls",
            "layout": "IPY_MODEL_8eebbcb5d5704ea2aa76bb0ed71f8498"
          }
        },
        "e4b96fe4ca8847e59e42b422ffb4d363": {
          "model_module": "@jupyter-widgets/controls",
          "model_name": "FloatSliderModel",
          "model_module_version": "1.5.0",
          "state": {
            "_view_name": "FloatSliderView",
            "style": "IPY_MODEL_8c6cdfd9ea7b457996a46c2d9aa4b976",
            "_dom_classes": [],
            "description": "σ_likelihood",
            "step": 0.01,
            "_model_name": "FloatSliderModel",
            "orientation": "horizontal",
            "max": 2,
            "_view_module": "@jupyter-widgets/controls",
            "_model_module_version": "1.5.0",
            "value": 2,
            "_view_count": null,
            "disabled": false,
            "_view_module_version": "1.5.0",
            "min": 0.1,
            "continuous_update": true,
            "readout_format": ".2f",
            "description_tooltip": null,
            "readout": true,
            "_model_module": "@jupyter-widgets/controls",
            "layout": "IPY_MODEL_00d7470134ae42ae8d7c256b14e19a97"
          }
        },
        "0d5bbd826240438d9458ece10b51d3fa": {
          "model_module": "@jupyter-widgets/controls",
          "model_name": "DescriptionStyleModel",
          "model_module_version": "1.5.0",
          "state": {
            "_view_name": "StyleView",
            "_model_name": "DescriptionStyleModel",
            "description_width": "",
            "_view_module": "@jupyter-widgets/base",
            "_model_module_version": "1.5.0",
            "_view_count": null,
            "_view_module_version": "1.2.0",
            "_model_module": "@jupyter-widgets/controls"
          }
        },
        "cc57bf96f8d7447586d127e9370dcb05": {
          "model_module": "@jupyter-widgets/base",
          "model_name": "LayoutModel",
          "model_module_version": "1.2.0",
          "state": {
            "_view_name": "LayoutView",
            "grid_template_rows": null,
            "right": null,
            "justify_content": "center",
            "_view_module": "@jupyter-widgets/base",
            "overflow": null,
            "_model_module_version": "1.2.0",
            "_view_count": null,
            "flex_flow": null,
            "width": null,
            "min_width": null,
            "border": null,
            "align_items": null,
            "bottom": null,
            "_model_module": "@jupyter-widgets/base",
            "top": null,
            "grid_column": null,
            "overflow_y": null,
            "overflow_x": null,
            "grid_auto_flow": null,
            "grid_area": null,
            "grid_template_columns": null,
            "flex": null,
            "_model_name": "LayoutModel",
            "justify_items": null,
            "grid_row": null,
            "max_height": null,
            "align_content": null,
            "visibility": null,
            "align_self": null,
            "height": null,
            "min_height": null,
            "padding": null,
            "grid_auto_rows": null,
            "grid_gap": null,
            "max_width": null,
            "order": null,
            "_view_module_version": "1.2.0",
            "grid_template_areas": null,
            "object_position": null,
            "object_fit": null,
            "grid_auto_columns": null,
            "margin": null,
            "display": "flex",
            "left": null
          }
        },
        "4eff55b2781742069c501ddbe4698f0c": {
          "model_module": "@jupyter-widgets/controls",
          "model_name": "SliderStyleModel",
          "model_module_version": "1.5.0",
          "state": {
            "_view_name": "StyleView",
            "handle_color": null,
            "_model_name": "SliderStyleModel",
            "description_width": "",
            "_view_module": "@jupyter-widgets/base",
            "_model_module_version": "1.5.0",
            "_view_count": null,
            "_view_module_version": "1.2.0",
            "_model_module": "@jupyter-widgets/controls"
          }
        },
        "f3b01b2b8397409b9dcdf88cbbcc0242": {
          "model_module": "@jupyter-widgets/base",
          "model_name": "LayoutModel",
          "model_module_version": "1.2.0",
          "state": {
            "_view_name": "LayoutView",
            "grid_template_rows": null,
            "right": null,
            "justify_content": null,
            "_view_module": "@jupyter-widgets/base",
            "overflow": null,
            "_model_module_version": "1.2.0",
            "_view_count": null,
            "flex_flow": null,
            "width": null,
            "min_width": null,
            "border": null,
            "align_items": null,
            "bottom": null,
            "_model_module": "@jupyter-widgets/base",
            "top": null,
            "grid_column": null,
            "overflow_y": null,
            "overflow_x": null,
            "grid_auto_flow": null,
            "grid_area": null,
            "grid_template_columns": null,
            "flex": null,
            "_model_name": "LayoutModel",
            "justify_items": null,
            "grid_row": null,
            "max_height": null,
            "align_content": null,
            "visibility": null,
            "align_self": null,
            "height": null,
            "min_height": null,
            "padding": null,
            "grid_auto_rows": null,
            "grid_gap": null,
            "max_width": null,
            "order": null,
            "_view_module_version": "1.2.0",
            "grid_template_areas": null,
            "object_position": null,
            "object_fit": null,
            "grid_auto_columns": null,
            "margin": null,
            "display": null,
            "left": null
          }
        },
        "11a276dbbd82442b88fcf0288e827495": {
          "model_module": "@jupyter-widgets/controls",
          "model_name": "SliderStyleModel",
          "model_module_version": "1.5.0",
          "state": {
            "_view_name": "StyleView",
            "handle_color": null,
            "_model_name": "SliderStyleModel",
            "description_width": "",
            "_view_module": "@jupyter-widgets/base",
            "_model_module_version": "1.5.0",
            "_view_count": null,
            "_view_module_version": "1.2.0",
            "_model_module": "@jupyter-widgets/controls"
          }
        },
        "c00ac040b7dd4748a1fdb07ffcfbdf4e": {
          "model_module": "@jupyter-widgets/base",
          "model_name": "LayoutModel",
          "model_module_version": "1.2.0",
          "state": {
            "_view_name": "LayoutView",
            "grid_template_rows": null,
            "right": null,
            "justify_content": null,
            "_view_module": "@jupyter-widgets/base",
            "overflow": null,
            "_model_module_version": "1.2.0",
            "_view_count": null,
            "flex_flow": null,
            "width": null,
            "min_width": null,
            "border": null,
            "align_items": null,
            "bottom": null,
            "_model_module": "@jupyter-widgets/base",
            "top": null,
            "grid_column": null,
            "overflow_y": null,
            "overflow_x": null,
            "grid_auto_flow": null,
            "grid_area": null,
            "grid_template_columns": null,
            "flex": null,
            "_model_name": "LayoutModel",
            "justify_items": null,
            "grid_row": null,
            "max_height": null,
            "align_content": null,
            "visibility": null,
            "align_self": null,
            "height": null,
            "min_height": null,
            "padding": null,
            "grid_auto_rows": null,
            "grid_gap": null,
            "max_width": null,
            "order": null,
            "_view_module_version": "1.2.0",
            "grid_template_areas": null,
            "object_position": null,
            "object_fit": null,
            "grid_auto_columns": null,
            "margin": null,
            "display": null,
            "left": null
          }
        },
        "61f93177bcaf40a6858688450db7532a": {
          "model_module": "@jupyter-widgets/controls",
          "model_name": "DescriptionStyleModel",
          "model_module_version": "1.5.0",
          "state": {
            "_view_name": "StyleView",
            "_model_name": "DescriptionStyleModel",
            "description_width": "",
            "_view_module": "@jupyter-widgets/base",
            "_model_module_version": "1.5.0",
            "_view_count": null,
            "_view_module_version": "1.2.0",
            "_model_module": "@jupyter-widgets/controls"
          }
        },
        "f14954ad0d7849dcb5e452edcaaae845": {
          "model_module": "@jupyter-widgets/base",
          "model_name": "LayoutModel",
          "model_module_version": "1.2.0",
          "state": {
            "_view_name": "LayoutView",
            "grid_template_rows": null,
            "right": null,
            "justify_content": "center",
            "_view_module": "@jupyter-widgets/base",
            "overflow": null,
            "_model_module_version": "1.2.0",
            "_view_count": null,
            "flex_flow": null,
            "width": null,
            "min_width": null,
            "border": null,
            "align_items": null,
            "bottom": null,
            "_model_module": "@jupyter-widgets/base",
            "top": null,
            "grid_column": null,
            "overflow_y": null,
            "overflow_x": null,
            "grid_auto_flow": null,
            "grid_area": null,
            "grid_template_columns": null,
            "flex": null,
            "_model_name": "LayoutModel",
            "justify_items": null,
            "grid_row": null,
            "max_height": null,
            "align_content": null,
            "visibility": null,
            "align_self": null,
            "height": null,
            "min_height": null,
            "padding": null,
            "grid_auto_rows": null,
            "grid_gap": null,
            "max_width": null,
            "order": null,
            "_view_module_version": "1.2.0",
            "grid_template_areas": null,
            "object_position": null,
            "object_fit": null,
            "grid_auto_columns": null,
            "margin": null,
            "display": "flex",
            "left": null
          }
        },
        "0e60d3b13a094b83b6fff23828b5cbcc": {
          "model_module": "@jupyter-widgets/controls",
          "model_name": "SliderStyleModel",
          "model_module_version": "1.5.0",
          "state": {
            "_view_name": "StyleView",
            "handle_color": null,
            "_model_name": "SliderStyleModel",
            "description_width": "",
            "_view_module": "@jupyter-widgets/base",
            "_model_module_version": "1.5.0",
            "_view_count": null,
            "_view_module_version": "1.2.0",
            "_model_module": "@jupyter-widgets/controls"
          }
        },
        "8eebbcb5d5704ea2aa76bb0ed71f8498": {
          "model_module": "@jupyter-widgets/base",
          "model_name": "LayoutModel",
          "model_module_version": "1.2.0",
          "state": {
            "_view_name": "LayoutView",
            "grid_template_rows": null,
            "right": null,
            "justify_content": null,
            "_view_module": "@jupyter-widgets/base",
            "overflow": null,
            "_model_module_version": "1.2.0",
            "_view_count": null,
            "flex_flow": null,
            "width": null,
            "min_width": null,
            "border": null,
            "align_items": null,
            "bottom": null,
            "_model_module": "@jupyter-widgets/base",
            "top": null,
            "grid_column": null,
            "overflow_y": null,
            "overflow_x": null,
            "grid_auto_flow": null,
            "grid_area": null,
            "grid_template_columns": null,
            "flex": null,
            "_model_name": "LayoutModel",
            "justify_items": null,
            "grid_row": null,
            "max_height": null,
            "align_content": null,
            "visibility": null,
            "align_self": null,
            "height": null,
            "min_height": null,
            "padding": null,
            "grid_auto_rows": null,
            "grid_gap": null,
            "max_width": null,
            "order": null,
            "_view_module_version": "1.2.0",
            "grid_template_areas": null,
            "object_position": null,
            "object_fit": null,
            "grid_auto_columns": null,
            "margin": null,
            "display": null,
            "left": null
          }
        },
        "8c6cdfd9ea7b457996a46c2d9aa4b976": {
          "model_module": "@jupyter-widgets/controls",
          "model_name": "SliderStyleModel",
          "model_module_version": "1.5.0",
          "state": {
            "_view_name": "StyleView",
            "handle_color": null,
            "_model_name": "SliderStyleModel",
            "description_width": "",
            "_view_module": "@jupyter-widgets/base",
            "_model_module_version": "1.5.0",
            "_view_count": null,
            "_view_module_version": "1.2.0",
            "_model_module": "@jupyter-widgets/controls"
          }
        },
        "00d7470134ae42ae8d7c256b14e19a97": {
          "model_module": "@jupyter-widgets/base",
          "model_name": "LayoutModel",
          "model_module_version": "1.2.0",
          "state": {
            "_view_name": "LayoutView",
            "grid_template_rows": null,
            "right": null,
            "justify_content": null,
            "_view_module": "@jupyter-widgets/base",
            "overflow": null,
            "_model_module_version": "1.2.0",
            "_view_count": null,
            "flex_flow": null,
            "width": null,
            "min_width": null,
            "border": null,
            "align_items": null,
            "bottom": null,
            "_model_module": "@jupyter-widgets/base",
            "top": null,
            "grid_column": null,
            "overflow_y": null,
            "overflow_x": null,
            "grid_auto_flow": null,
            "grid_area": null,
            "grid_template_columns": null,
            "flex": null,
            "_model_name": "LayoutModel",
            "justify_items": null,
            "grid_row": null,
            "max_height": null,
            "align_content": null,
            "visibility": null,
            "align_self": null,
            "height": null,
            "min_height": null,
            "padding": null,
            "grid_auto_rows": null,
            "grid_gap": null,
            "max_width": null,
            "order": null,
            "_view_module_version": "1.2.0",
            "grid_template_areas": null,
            "object_position": null,
            "object_fit": null,
            "grid_auto_columns": null,
            "margin": null,
            "display": null,
            "left": null
          }
        },
        "17b523d46a764ab1908f1d2813934424": {
          "model_module": "@jupyter-widgets/output",
          "model_name": "OutputModel",
          "model_module_version": "1.0.0",
          "state": {
            "_view_name": "OutputView",
            "msg_id": "",
            "_dom_classes": [],
            "_model_name": "OutputModel",
            "outputs": [
              {
                "output_type": "display_data",
                "data": {
                  "image/png": "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\n",
                  "text/plain": "<Figure size 576x432 with 1 Axes>"
                },
                "metadata": {
                  "image/png": {
                    "width": 477,
                    "height": 370
                  },
                  "needs_background": "light"
                }
              }
            ],
            "_view_module": "@jupyter-widgets/output",
            "_model_module_version": "1.0.0",
            "_view_count": null,
            "_view_module_version": "1.0.0",
            "layout": "IPY_MODEL_dbcc957588db4906bd787bdb05c9c9b0",
            "_model_module": "@jupyter-widgets/output"
          }
        },
        "dbcc957588db4906bd787bdb05c9c9b0": {
          "model_module": "@jupyter-widgets/base",
          "model_name": "LayoutModel",
          "model_module_version": "1.2.0",
          "state": {
            "_view_name": "LayoutView",
            "grid_template_rows": null,
            "right": null,
            "justify_content": null,
            "_view_module": "@jupyter-widgets/base",
            "overflow": null,
            "_model_module_version": "1.2.0",
            "_view_count": null,
            "flex_flow": null,
            "width": null,
            "min_width": null,
            "border": null,
            "align_items": null,
            "bottom": null,
            "_model_module": "@jupyter-widgets/base",
            "top": null,
            "grid_column": null,
            "overflow_y": null,
            "overflow_x": null,
            "grid_auto_flow": null,
            "grid_area": null,
            "grid_template_columns": null,
            "flex": null,
            "_model_name": "LayoutModel",
            "justify_items": null,
            "grid_row": null,
            "max_height": null,
            "align_content": null,
            "visibility": null,
            "align_self": null,
            "height": null,
            "min_height": null,
            "padding": null,
            "grid_auto_rows": null,
            "grid_gap": null,
            "max_width": null,
            "order": null,
            "_view_module_version": "1.2.0",
            "grid_template_areas": null,
            "object_position": null,
            "object_fit": null,
            "grid_auto_columns": null,
            "margin": null,
            "display": null,
            "left": null
          }
        }
      }
    }
  },
  "cells": [
    {
      "cell_type": "markdown",
      "metadata": {
        "id": "view-in-github",
        "colab_type": "text"
      },
      "source": [
        "<a href=\"https://colab.research.google.com/github/benjaminbeilharz/Perception-Action-Notebooks/blob/main/1_Bayesian_Decision_Models_A_Primer.ipynb\" target=\"_parent\"><img src=\"https://colab.research.google.com/assets/colab-badge.svg\" alt=\"Open In Colab\"/></a>"
      ]
    },
    {
      "cell_type": "markdown",
      "metadata": {
        "id": "Y0hOjSHXhrBU"
      },
      "source": [
        "# Bayesian Decision Models: A Primer (Ma, 2019)\n",
        "\n",
        "The aim of this tutorial is to get you thinking about the crucial steps for Bayesian Decision Models. The text and exercises are based of Section 3 of the paper (Ma, 2019) and W3D1 Bayesian Decisios from Neuromatch Academy 2021. "
      ]
    },
    {
      "cell_type": "code",
      "metadata": {
        "id": "PrLVwpTWhaTI"
      },
      "source": [
        "import numpy as np \n",
        "import matplotlib.pyplot as plt\n",
        "import graphviz"
      ],
      "execution_count": null,
      "outputs": []
    },
    {
      "cell_type": "markdown",
      "metadata": {
        "id": "ag3dnxqZaCq2"
      },
      "source": [
        "# Warm Up: \n",
        "\n",
        "**1. Match the following functions that play a role in Bayesian modeling with the\n",
        "descriptions:**\n",
        "\n",
        "## FUNCTIONS\n",
        "1. Distribution of the MAP (point with highest probability) estimate \n",
        "2. Prior distribution\n",
        "3. Likelihood function\n",
        "4. Posterior distribution\n",
        "5. Measurement distribution\n",
        "\n",
        "\n",
        "## DESCRIPTIONS\n",
        "a. Product of inference on an individual trial \\\n",
        "b. Describes how observations are generated \\\n",
        "c. Can be directly compared to human responses in a psychophysical experiment \\\n",
        "d. Often modeled as a Gaussian shape centered at the measurement \\\n",
        "e. May reflect statistics in the natural world \\\n"
      ]
    },
    {
      "cell_type": "markdown",
      "metadata": {
        "id": "_l-KsfZuAj79"
      },
      "source": [
        "# Case 1: Unequal Likelihoods and Gestalt Laws \n",
        "\n",
        "You observe the five dots below all moving downward, as indicated by the arrows. \\\n",
        "![gestalt-law-graphic](https://drive.google.com/uc?export=view&id=1gvJMaT8Bcp2aOFwMfizk8A3AayEjdzcd) \\\n",
        "\n",
        "According to Gestalt psychology (Wertheimer, 1938), the mind has a tendency to group the dots together because of their common motion and perceive them as a single object. This is captured by the ‘‘Gestalt law of common fate.’’ Gestalt laws, however, are merely narrative summaries of phenomenology. A Bayesian model has the potential to provide a true explanation of the percept and, in some cases, make quantitative predictions (Wagemans et al., 2012). In this case, the Bayesian decision model takes the form of an ‘‘observer model’’ or ‘‘perception model.’’\n",
        "\n",
        "\n",
        "\n"
      ]
    },
    {
      "cell_type": "markdown",
      "metadata": {
        "id": "ylceIYDICz6w"
      },
      "source": [
        "## Step 1: Generative Model\n",
        "\n",
        "We first formulate our generative model. The retinal image of each dot serves as a sensory observation. We will denote these five retinal images by I1, I2, I3, I4, and I5, each specifying the direction of movement of the corresponding dot’s image on the retina (up or down). For didactic purposes, let’s say that there exist only two scenarios in the world.\n",
        "\n",
        "\n",
        "*   **Scenario 1:** all dots are part of the same object, and they therefore always move together. They move together either up or down, each with probability 0.5.\n",
        "*   **Scenario 2:** each dot is an object by itself. Each dot independently moves either up or down, each with probability 0.5.\n",
        "\n",
        "\n",
        "(Dots are only allowed to move up and down, and speed and position do not play a role in this problem.) The world state s from Section 2 is now a binary scenario.\n",
        "\n",
        "\n",
        "**Task 1:** The generative model diagram in Figure 2 shows each scenario in a big box. Inside each box, the bubbles contain the variables and the arrows represent dependencies between variables. In other words, an arrow can be understood to represent the influence of one variable on another; it can be read as ‘‘produces’’ or ‘‘generates’’ or ‘‘gives rise to.’’ The sensory observations should always be at the bottom of the diagram. \n",
        "\n",
        "**Put the following variable names in the correct boxes: retinal images I1 , I2 , I3 , I4 , and I5 and motion directions s (a single motion direction), s1 , s2 , s3 , s4 , and s5 . The same variable might appear more than once.**\n",
        "\n"
      ]
    },
    {
      "cell_type": "code",
      "metadata": {
        "colab": {
          "base_uri": "https://localhost:8080/",
          "height": 176
        },
        "id": "RM3P5Z1giTJL",
        "outputId": "a508b66e-88f1-4d4a-c260-d6bc3fd18531"
      },
      "source": [
        "import graphviz\n",
        "\n",
        "scenario1 = graphviz.Digraph(comment='Scenario 1')\n",
        "\n",
        "#put the correct name in the label argument \n",
        "scenario1.node('A', label = 'S', shape = 'rect')\n",
        "scenario1.node('B', label = 'I1', shape = 'rect')\n",
        "scenario1.node('C', label = 'I2', shape = 'rect')\n",
        "scenario1.node('D', label = 'I3', shape = 'rect')\n",
        "scenario1.node('E', label = 'I4', shape = 'rect')\n",
        "scenario1.node('F', label = 'I5', shape = 'rect')\n",
        "scenario1.edges(['AB', 'AC', 'AD', 'AE', 'AF'])\n",
        "scenario1 "
      ],
      "execution_count": null,
      "outputs": [
        {
          "output_type": "execute_result",
          "data": {
            "text/plain": [
              "<graphviz.dot.Digraph at 0x7fedc57d7590>"
            ],
            "image/svg+xml": "<?xml version=\"1.0\" encoding=\"UTF-8\" standalone=\"no\"?>\n<!DOCTYPE svg PUBLIC \"-//W3C//DTD SVG 1.1//EN\"\n \"http://www.w3.org/Graphics/SVG/1.1/DTD/svg11.dtd\">\n<!-- Generated by graphviz version 2.40.1 (20161225.0304)\n -->\n<!-- Title: %3 Pages: 1 -->\n<svg width=\"350pt\" height=\"116pt\"\n viewBox=\"0.00 0.00 350.00 116.00\" xmlns=\"http://www.w3.org/2000/svg\" xmlns:xlink=\"http://www.w3.org/1999/xlink\">\n<g id=\"graph0\" class=\"graph\" transform=\"scale(1 1) rotate(0) translate(4 112)\">\n<title>%3</title>\n<polygon fill=\"#ffffff\" stroke=\"transparent\" points=\"-4,4 -4,-112 346,-112 346,4 -4,4\"/>\n<!-- A -->\n<g id=\"node1\" class=\"node\">\n<title>A</title>\n<polygon fill=\"none\" stroke=\"#000000\" points=\"198,-108 144,-108 144,-72 198,-72 198,-108\"/>\n</g>\n<!-- B -->\n<g id=\"node2\" class=\"node\">\n<title>B</title>\n<polygon fill=\"none\" stroke=\"#000000\" points=\"54,-36 0,-36 0,0 54,0 54,-36\"/>\n</g>\n<!-- A&#45;&gt;B -->\n<g id=\"edge1\" class=\"edge\">\n<title>A&#45;&gt;B</title>\n<path fill=\"none\" stroke=\"#000000\" d=\"M143.9147,-76.4574C121.2307,-65.1153 88.6433,-48.8217 63.6319,-36.316\"/>\n<polygon fill=\"#000000\" stroke=\"#000000\" points=\"64.963,-33.0684 54.4534,-31.7267 61.8325,-39.3294 64.963,-33.0684\"/>\n</g>\n<!-- C -->\n<g id=\"node3\" class=\"node\">\n<title>C</title>\n<polygon fill=\"none\" stroke=\"#000000\" points=\"126,-36 72,-36 72,0 126,0 126,-36\"/>\n</g>\n<!-- A&#45;&gt;C -->\n<g id=\"edge2\" class=\"edge\">\n<title>A&#45;&gt;C</title>\n<path fill=\"none\" stroke=\"#000000\" d=\"M152.8314,-71.8314C144.2848,-63.2848 133.9443,-52.9443 124.6198,-43.6198\"/>\n<polygon fill=\"#000000\" stroke=\"#000000\" points=\"126.9592,-41.0095 117.4133,-36.4133 122.0095,-45.9592 126.9592,-41.0095\"/>\n</g>\n<!-- D -->\n<g id=\"node4\" class=\"node\">\n<title>D</title>\n<polygon fill=\"none\" stroke=\"#000000\" points=\"198,-36 144,-36 144,0 198,0 198,-36\"/>\n</g>\n<!-- A&#45;&gt;D -->\n<g id=\"edge3\" class=\"edge\">\n<title>A&#45;&gt;D</title>\n<path fill=\"none\" stroke=\"#000000\" d=\"M171,-71.8314C171,-64.131 171,-54.9743 171,-46.4166\"/>\n<polygon fill=\"#000000\" stroke=\"#000000\" points=\"174.5001,-46.4132 171,-36.4133 167.5001,-46.4133 174.5001,-46.4132\"/>\n</g>\n<!-- E -->\n<g id=\"node5\" class=\"node\">\n<title>E</title>\n<polygon fill=\"none\" stroke=\"#000000\" points=\"270,-36 216,-36 216,0 270,0 270,-36\"/>\n</g>\n<!-- A&#45;&gt;E -->\n<g id=\"edge4\" class=\"edge\">\n<title>A&#45;&gt;E</title>\n<path fill=\"none\" stroke=\"#000000\" d=\"M189.1686,-71.8314C197.7152,-63.2848 208.0557,-52.9443 217.3802,-43.6198\"/>\n<polygon fill=\"#000000\" stroke=\"#000000\" points=\"219.9905,-45.9592 224.5867,-36.4133 215.0408,-41.0095 219.9905,-45.9592\"/>\n</g>\n<!-- F -->\n<g id=\"node6\" class=\"node\">\n<title>F</title>\n<polygon fill=\"none\" stroke=\"#000000\" points=\"342,-36 288,-36 288,0 342,0 342,-36\"/>\n</g>\n<!-- A&#45;&gt;F -->\n<g id=\"edge5\" class=\"edge\">\n<title>A&#45;&gt;F</title>\n<path fill=\"none\" stroke=\"#000000\" d=\"M198.0853,-76.4574C220.7693,-65.1153 253.3567,-48.8217 278.3681,-36.316\"/>\n<polygon fill=\"#000000\" stroke=\"#000000\" points=\"280.1675,-39.3294 287.5466,-31.7267 277.037,-33.0684 280.1675,-39.3294\"/>\n</g>\n</g>\n</svg>\n"
          },
          "metadata": {},
          "execution_count": 50
        }
      ]
    },
    {
      "cell_type": "code",
      "metadata": {
        "colab": {
          "base_uri": "https://localhost:8080/",
          "height": 176
        },
        "id": "gpMjcH_0FnCR",
        "outputId": "3225b20b-372d-4583-abfe-91f55d8a7027"
      },
      "source": [
        "scenario2 = graphviz.Digraph(comment='Scenario 1')\n",
        "\n",
        "#put the correct name in the label argument \n",
        "scenario2.node('A', label = '', shape = 'rect')\n",
        "scenario2.node('B', label = '', shape = 'rect')\n",
        "scenario2.node('C', label = '', shape = 'rect')\n",
        "scenario2.node('D', label = '', shape = 'rect')\n",
        "scenario2.node('E', label = '', shape = 'rect')\n",
        "\n",
        "scenario2.node('F', label = '', shape = 'rect')\n",
        "scenario2.node('G', label = '', shape = 'rect')\n",
        "scenario2.node('H', label = '', shape = 'rect')\n",
        "scenario2.node('I', label = '', shape = 'rect')\n",
        "scenario2.node('J', label = '', shape = 'rect')\n",
        "\n",
        "scenario2.edges(['AF', 'BG', 'CH', 'DI', 'EJ'])\n",
        "scenario2"
      ],
      "execution_count": null,
      "outputs": [
        {
          "output_type": "execute_result",
          "data": {
            "text/plain": [
              "<graphviz.dot.Digraph at 0x7fedc5ba1790>"
            ],
            "image/svg+xml": "<?xml version=\"1.0\" encoding=\"UTF-8\" standalone=\"no\"?>\n<!DOCTYPE svg PUBLIC \"-//W3C//DTD SVG 1.1//EN\"\n \"http://www.w3.org/Graphics/SVG/1.1/DTD/svg11.dtd\">\n<!-- Generated by graphviz version 2.40.1 (20161225.0304)\n -->\n<!-- Title: %3 Pages: 1 -->\n<svg width=\"350pt\" height=\"116pt\"\n viewBox=\"0.00 0.00 350.00 116.00\" xmlns=\"http://www.w3.org/2000/svg\" xmlns:xlink=\"http://www.w3.org/1999/xlink\">\n<g id=\"graph0\" class=\"graph\" transform=\"scale(1 1) rotate(0) translate(4 112)\">\n<title>%3</title>\n<polygon fill=\"#ffffff\" stroke=\"transparent\" points=\"-4,4 -4,-112 346,-112 346,4 -4,4\"/>\n<!-- A -->\n<g id=\"node1\" class=\"node\">\n<title>A</title>\n<polygon fill=\"none\" stroke=\"#000000\" points=\"54,-108 0,-108 0,-72 54,-72 54,-108\"/>\n</g>\n<!-- F -->\n<g id=\"node6\" class=\"node\">\n<title>F</title>\n<polygon fill=\"none\" stroke=\"#000000\" points=\"54,-36 0,-36 0,0 54,0 54,-36\"/>\n</g>\n<!-- A&#45;&gt;F -->\n<g id=\"edge1\" class=\"edge\">\n<title>A&#45;&gt;F</title>\n<path fill=\"none\" stroke=\"#000000\" d=\"M27,-71.8314C27,-64.131 27,-54.9743 27,-46.4166\"/>\n<polygon fill=\"#000000\" stroke=\"#000000\" points=\"30.5001,-46.4132 27,-36.4133 23.5001,-46.4133 30.5001,-46.4132\"/>\n</g>\n<!-- B -->\n<g id=\"node2\" class=\"node\">\n<title>B</title>\n<polygon fill=\"none\" stroke=\"#000000\" points=\"126,-108 72,-108 72,-72 126,-72 126,-108\"/>\n</g>\n<!-- G -->\n<g id=\"node7\" class=\"node\">\n<title>G</title>\n<polygon fill=\"none\" stroke=\"#000000\" points=\"126,-36 72,-36 72,0 126,0 126,-36\"/>\n</g>\n<!-- B&#45;&gt;G -->\n<g id=\"edge2\" class=\"edge\">\n<title>B&#45;&gt;G</title>\n<path fill=\"none\" stroke=\"#000000\" d=\"M99,-71.8314C99,-64.131 99,-54.9743 99,-46.4166\"/>\n<polygon fill=\"#000000\" stroke=\"#000000\" points=\"102.5001,-46.4132 99,-36.4133 95.5001,-46.4133 102.5001,-46.4132\"/>\n</g>\n<!-- C -->\n<g id=\"node3\" class=\"node\">\n<title>C</title>\n<polygon fill=\"none\" stroke=\"#000000\" points=\"198,-108 144,-108 144,-72 198,-72 198,-108\"/>\n</g>\n<!-- H -->\n<g id=\"node8\" class=\"node\">\n<title>H</title>\n<polygon fill=\"none\" stroke=\"#000000\" points=\"198,-36 144,-36 144,0 198,0 198,-36\"/>\n</g>\n<!-- C&#45;&gt;H -->\n<g id=\"edge3\" class=\"edge\">\n<title>C&#45;&gt;H</title>\n<path fill=\"none\" stroke=\"#000000\" d=\"M171,-71.8314C171,-64.131 171,-54.9743 171,-46.4166\"/>\n<polygon fill=\"#000000\" stroke=\"#000000\" points=\"174.5001,-46.4132 171,-36.4133 167.5001,-46.4133 174.5001,-46.4132\"/>\n</g>\n<!-- D -->\n<g id=\"node4\" class=\"node\">\n<title>D</title>\n<polygon fill=\"none\" stroke=\"#000000\" points=\"270,-108 216,-108 216,-72 270,-72 270,-108\"/>\n</g>\n<!-- I -->\n<g id=\"node9\" class=\"node\">\n<title>I</title>\n<polygon fill=\"none\" stroke=\"#000000\" points=\"270,-36 216,-36 216,0 270,0 270,-36\"/>\n</g>\n<!-- D&#45;&gt;I -->\n<g id=\"edge4\" class=\"edge\">\n<title>D&#45;&gt;I</title>\n<path fill=\"none\" stroke=\"#000000\" d=\"M243,-71.8314C243,-64.131 243,-54.9743 243,-46.4166\"/>\n<polygon fill=\"#000000\" stroke=\"#000000\" points=\"246.5001,-46.4132 243,-36.4133 239.5001,-46.4133 246.5001,-46.4132\"/>\n</g>\n<!-- E -->\n<g id=\"node5\" class=\"node\">\n<title>E</title>\n<polygon fill=\"none\" stroke=\"#000000\" points=\"342,-108 288,-108 288,-72 342,-72 342,-108\"/>\n</g>\n<!-- J -->\n<g id=\"node10\" class=\"node\">\n<title>J</title>\n<polygon fill=\"none\" stroke=\"#000000\" points=\"342,-36 288,-36 288,0 342,0 342,-36\"/>\n</g>\n<!-- E&#45;&gt;J -->\n<g id=\"edge5\" class=\"edge\">\n<title>E&#45;&gt;J</title>\n<path fill=\"none\" stroke=\"#000000\" d=\"M315,-71.8314C315,-64.131 315,-54.9743 315,-46.4166\"/>\n<polygon fill=\"#000000\" stroke=\"#000000\" points=\"318.5001,-46.4132 315,-36.4133 311.5001,-46.4133 318.5001,-46.4132\"/>\n</g>\n</g>\n</svg>\n"
          },
          "metadata": {},
          "execution_count": 51
        }
      ]
    },
    {
      "cell_type": "markdown",
      "metadata": {
        "id": "rkOHMcNsGELu"
      },
      "source": [
        "## Step 2 Inference \n",
        "\n",
        "In inference, the two scenarios become hypothesized scenarios. Inference involves likelihoods and priors. The likelihood of a scenario is the probability of the sensory observations under the scenario.\n",
        "\n",
        "**Task 2:**\n",
        "\n",
        "1. **What is the likelihood of scenario 1?**\n",
        "2. **What is the likelihood of scenario 2?**\n",
        "3. **Do the likelihoods of the scenarios sum to 1? Explain why\n",
        "or why not.**\n",
        "4. **What is wrong with the phrase ‘‘the likelihood of the\n",
        "observations’’?**\n",
        "\n",
        "Note: Take the probabilities from the description of the two scenarios above to compute your answers.\n"
      ]
    },
    {
      "cell_type": "code",
      "metadata": {
        "id": "dYZh-0vgHyNc"
      },
      "source": [
        "likelihood_scenario_1 = NotImplemented\n",
        "likelihood_scenario_2 = NotImplemented\n",
        "\n",
        "'''\n",
        "Do the likelihoods of the scenarios sum to 1? Explain why or why not\n",
        "\n",
        "(answer here)\n",
        "\n",
        "\n",
        "''';\n",
        "\n",
        "\n",
        "\n",
        "'''\n",
        "What is wrong with the phrase likelihoods of the observations?\n",
        "\n",
        "(answer here)\n",
        "\n",
        "\n",
        "''';"
      ],
      "execution_count": null,
      "outputs": []
    },
    {
      "cell_type": "markdown",
      "metadata": {
        "id": "C5bA9y7WKrxI"
      },
      "source": [
        "**Task 3a:**\n",
        "\n",
        "Let’s say scenario 1 occurs twice as often in the world as scenario 2. The observer can use these frequencies of occurrence as prior probabilities, reflecting expectations in the absence of specific sensory observations.\n",
        "\n",
        "\n",
        "1. **What are the prior probabilities of scenarios 1 and 2?**\n",
        "2. **What is the product of the likelihood and the prior probability for scenario 1?**\n",
        "3. **What is this product for scenario 2?**\n",
        "4. **Do these products of the scenarios sum to 1?**\n",
        "5. **Posterior probabilities have to sum to 1. To achieve that,\n",
        "divide each of the products above by their sum. Calculate the posterior probabilities of scenarios 1 and 2. You have just applied Bayes’ rule.**\n",
        "\n"
      ]
    },
    {
      "cell_type": "code",
      "metadata": {
        "id": "WUoUuIxZIUUp"
      },
      "source": [
        "prior_scenario_1 =  NotImplemented \n",
        "prior_scenario_2 =  NotImplemented \n",
        "\n",
        "product_likelihood_prior_scenario_1 = NotImplemented \n",
        "product_likelihood_prior_scenario_2 = NotImplemented \n",
        "\n",
        "#Do these producs of the scenario sum to one?\n",
        "\n",
        "# p(Scenario_1 | I1, ...., I5)\n",
        "posterior_scenario_1 = NotImplemented\n",
        "\n",
        "# p(Scenario_1 | I1, ...., I5)\n",
        "posterior_scenario_2 = NotImplemented"
      ],
      "execution_count": null,
      "outputs": []
    },
    {
      "cell_type": "markdown",
      "metadata": {
        "id": "3d9wxR1vNe8O"
      },
      "source": [
        "The default Bayesian perception model for discrete hypotheses holds that the percept is the scenario with the high- est posterior probability (maximum-a-posteriori or MAP estimation).\n",
        "\n",
        "**Task 3b:**\n",
        "\n",
        "1. **Would that be consistent with the law of common fate? Explain.**\n",
        "2. **How does this Bayesian observer model complement—or go beyond—the traditional Gestalt account of this phenomenon?**\n"
      ]
    },
    {
      "cell_type": "code",
      "metadata": {
        "colab": {
          "base_uri": "https://localhost:8080/",
          "height": 37
        },
        "id": "QRF_S_ZwNR2j",
        "outputId": "c7fe972c-6cda-4b8b-e438-1e764e1674ac"
      },
      "source": [
        "'''\n",
        "Would that be consistent with the law of common fate? Explain.\n",
        "\n",
        "(answer here)\n",
        "\n",
        "\n",
        "'''\n",
        "\n",
        "'''\n",
        "How does this Bayesian observer model complement—or go beyond—the traditional Gestalt account of this phenomenon?\n",
        "\n",
        "(answer here)\n",
        "\n",
        "'''"
      ],
      "execution_count": null,
      "outputs": [
        {
          "output_type": "execute_result",
          "data": {
            "application/vnd.google.colaboratory.intrinsic+json": {
              "type": "string"
            },
            "text/plain": [
              "'\\nHow does this Bayesian observer model complement—or go beyond—the traditional Gestalt account of this phenomenon?\\n\\n(answer here)\\n\\n'"
            ]
          },
          "metadata": {},
          "execution_count": 54
        }
      ]
    },
    {
      "cell_type": "markdown",
      "metadata": {
        "id": "EiyAGVBOQxf1"
      },
      "source": [
        "# Case 2: Competing likelihoods and priors in motion sickness\n",
        "\n",
        "Michel Treisman has tried to explain motion sickness in the context of evolution (Treisman, 1977). During the millions of years over which the human brain evolved, accidentally eating toxic food was a real possibility, and that could cause hallucina- tions. Perhaps, our modern brain still uses prior probabilities passed on from those days; those would not be based on our personal experience, but on our ancestors’! This is a fascinating, though only weakly tested, theory. Here, we don’t delve into the merits of the theory but try to cast it in Bayesian form.\n",
        "\n",
        "Suppose you are in the windowless room on a ship at sea. Your brain has two sets of sensory observations: *visual observations* and *vestibular observations*. \n",
        "\n",
        "Let’s say that the brain considers three scenarios for what caused these observations:\n",
        "\n",
        "* Scenario 1: the *room is not moving* and *your motion* in the room causes both sets of observations.\n",
        "* Scenario 2: *your motion* in the room causes your *visual observations*, whereas your motion in the room and the *room’s motion* in the world together cause the vestibular observations.\n",
        "* Scenario 3: you are hallucinating; your motion in the room and *ingested toxins* together cause both sets of observations.\n",
        "\n",
        "\n",
        "## Step 1: Generative Model\n",
        "**Task 4:** \\\n",
        "**Draw a diagram of the generative model. It should contain one box for each scenario, and all of the italicized variables in the previous paragraph. Some variables might appear more than once.**"
      ]
    },
    {
      "cell_type": "code",
      "metadata": {
        "colab": {
          "base_uri": "https://localhost:8080/",
          "height": 34
        },
        "id": "cJH0q8LzSb-1",
        "outputId": "0a8ed68e-2ad6-49b8-a903-be5112b57f16"
      },
      "source": [
        "scenario1 = graphviz.Digraph(comment='Scenario 1: The room is not moving and your motion in the room causes both sets of observations.')\n",
        "\n",
        "#specify nodes\n",
        "#scenario1.node('A', label = '', shape = 'rect')\n",
        "#scenario1.node('B', label = '', shape = 'rect')\n",
        "\n",
        "#specify edges \n",
        "#scenario1.edges([['AB'])\n",
        "\n",
        "scenario1"
      ],
      "execution_count": null,
      "outputs": [
        {
          "output_type": "execute_result",
          "data": {
            "text/plain": [
              "<graphviz.dot.Digraph at 0x7fedc5ba19d0>"
            ],
            "image/svg+xml": "<?xml version=\"1.0\" encoding=\"UTF-8\" standalone=\"no\"?>\n<!DOCTYPE svg PUBLIC \"-//W3C//DTD SVG 1.1//EN\"\n \"http://www.w3.org/Graphics/SVG/1.1/DTD/svg11.dtd\">\n<!-- Generated by graphviz version 2.40.1 (20161225.0304)\n -->\n<!-- Title: %3 Pages: 1 -->\n<svg width=\"8pt\" height=\"8pt\"\n viewBox=\"0.00 0.00 8.00 8.00\" xmlns=\"http://www.w3.org/2000/svg\" xmlns:xlink=\"http://www.w3.org/1999/xlink\">\n<g id=\"graph0\" class=\"graph\" transform=\"scale(1 1) rotate(0) translate(4 4)\">\n<title>%3</title>\n<polygon fill=\"#ffffff\" stroke=\"transparent\" points=\"-4,4 -4,-4 4,-4 4,4 -4,4\"/>\n</g>\n</svg>\n"
          },
          "metadata": {},
          "execution_count": 55
        }
      ]
    },
    {
      "cell_type": "code",
      "metadata": {
        "colab": {
          "base_uri": "https://localhost:8080/",
          "height": 34
        },
        "id": "a6ZFwNpNSluZ",
        "outputId": "0c3fe918-5be2-4a2d-c19f-3cfaa8f5b5b6"
      },
      "source": [
        "scenario2 = graphviz.Digraph(comment='Scenario 2: Your motion in the room causes your visual observations, whereas your motion in the room and the room’s motion in the world together cause the vestibular observations.')\n",
        "\n",
        "#specify nodes\n",
        "#scenario2.node('A', label = '', shape = 'rect')\n",
        "#scenario2.node('B', label = '', shape = 'rect')\n",
        "\n",
        "#specify edges \n",
        "#scenario2.edges([['AB'])\n",
        "\n",
        "scenario2 "
      ],
      "execution_count": null,
      "outputs": [
        {
          "output_type": "execute_result",
          "data": {
            "text/plain": [
              "<graphviz.dot.Digraph at 0x7fedc642da90>"
            ],
            "image/svg+xml": "<?xml version=\"1.0\" encoding=\"UTF-8\" standalone=\"no\"?>\n<!DOCTYPE svg PUBLIC \"-//W3C//DTD SVG 1.1//EN\"\n \"http://www.w3.org/Graphics/SVG/1.1/DTD/svg11.dtd\">\n<!-- Generated by graphviz version 2.40.1 (20161225.0304)\n -->\n<!-- Title: %3 Pages: 1 -->\n<svg width=\"8pt\" height=\"8pt\"\n viewBox=\"0.00 0.00 8.00 8.00\" xmlns=\"http://www.w3.org/2000/svg\" xmlns:xlink=\"http://www.w3.org/1999/xlink\">\n<g id=\"graph0\" class=\"graph\" transform=\"scale(1 1) rotate(0) translate(4 4)\">\n<title>%3</title>\n<polygon fill=\"#ffffff\" stroke=\"transparent\" points=\"-4,4 -4,-4 4,-4 4,4 -4,4\"/>\n</g>\n</svg>\n"
          },
          "metadata": {},
          "execution_count": 56
        }
      ]
    },
    {
      "cell_type": "code",
      "metadata": {
        "colab": {
          "base_uri": "https://localhost:8080/",
          "height": 34
        },
        "id": "JgT_fIuLSoFG",
        "outputId": "aff36bc8-8f9a-4e6f-f0a8-52591f371f26"
      },
      "source": [
        "scenario3 = graphviz.Digraph(comment='Scenario 3: You are hallucinating; your motion in the room and ingested toxins together cause both sets of observations.')\n",
        "\n",
        "#specify nodes\n",
        "#scenario3.node('A', label = '', shape = 'rect')\n",
        "#scenario3.node('B', label = '', shape = 'rect')\n",
        "\n",
        "#specify edges \n",
        "# scenario3.edges([['AB'])\n",
        "\n",
        "scenario3"
      ],
      "execution_count": null,
      "outputs": [
        {
          "output_type": "execute_result",
          "data": {
            "text/plain": [
              "<graphviz.dot.Digraph at 0x7fedc64a4510>"
            ],
            "image/svg+xml": "<?xml version=\"1.0\" encoding=\"UTF-8\" standalone=\"no\"?>\n<!DOCTYPE svg PUBLIC \"-//W3C//DTD SVG 1.1//EN\"\n \"http://www.w3.org/Graphics/SVG/1.1/DTD/svg11.dtd\">\n<!-- Generated by graphviz version 2.40.1 (20161225.0304)\n -->\n<!-- Title: %3 Pages: 1 -->\n<svg width=\"8pt\" height=\"8pt\"\n viewBox=\"0.00 0.00 8.00 8.00\" xmlns=\"http://www.w3.org/2000/svg\" xmlns:xlink=\"http://www.w3.org/1999/xlink\">\n<g id=\"graph0\" class=\"graph\" transform=\"scale(1 1) rotate(0) translate(4 4)\">\n<title>%3</title>\n<polygon fill=\"#ffffff\" stroke=\"transparent\" points=\"-4,4 -4,-4 4,-4 4,4 -4,4\"/>\n</g>\n</svg>\n"
          },
          "metadata": {},
          "execution_count": 57
        }
      ]
    },
    {
      "cell_type": "markdown",
      "metadata": {
        "id": "CIE0PsRvUzpj"
      },
      "source": [
        "## Scenario 2: Inference\n",
        "\n",
        "In this exercise use numbers to illustrate the inference.\n",
        "Try to figure out from the text, which scenarios are more or less probable (apriori, likelihood). In the end you want to have posterior to make a statement about which scenario is most probable.\n",
        "\n",
        "**Task 5:**\n",
        "\n",
        "1. **In prehistory, people would, of course, move around in the world, but surroundings would almost never move. Once in a while, a person might accidentally ingest toxins. Assuming that your innate prior probabilities are based on these prehistoric frequencies of events, draw a bar diagram to represent your prior probabilities of the three scenarios above.**\n",
        "\n",
        "2. **In the windowless room on the ship, there is a big discrepancy between your visual and vestibular observations. Draw a bar diagram that illustrates the likeli- hoods of the three scenarios in that situation (i.e., how probable these particular sensory observations are under each scenario).**\n",
        "\n",
        "3. **Draw a bar diagram that illustrates the posterior probabil- ities of the three scenarios.**\n",
        "\n",
        "4. **Using the posterior probabilities, explain why you might\n",
        "vomit in this situation.** \n"
      ]
    },
    {
      "cell_type": "code",
      "metadata": {
        "colab": {
          "base_uri": "https://localhost:8080/",
          "height": 342
        },
        "id": "jSSIAYeeVWZV",
        "outputId": "296edf5f-de85-4b80-90bf-062a4da41100"
      },
      "source": [
        "fig, ax = plt.subplots(1,3, figsize = (15,5))\n",
        "\n",
        "scenarios = ['', '', '']\n",
        "prior = np.array([0, 0, 0])\n",
        "\n",
        "ax[0].bar(scenarios, prior)\n",
        "ax[0].set_title('Prior')\n",
        "\n",
        "likelihoods = np.array([0, 0, 0])\n",
        "ax[1].bar(scenarios, likelihoods)\n",
        "ax[1].set_title('Likelihood')\n",
        "\n",
        "posteriors = np.array([0, 0, 0])\n",
        "ax[2].bar(scenarios, posteriors)\n",
        "ax[2].set_title('Posterior')\n",
        "\n",
        "'''\n",
        "Using the posterior probabilities, explain why you might vomit in this situation.\n",
        "\n",
        "(answer here)\n",
        "\n",
        "\n",
        "'''\n"
      ],
      "execution_count": null,
      "outputs": [
        {
          "output_type": "execute_result",
          "data": {
            "application/vnd.google.colaboratory.intrinsic+json": {
              "type": "string"
            },
            "text/plain": [
              "'\\nUsing the posterior probabilities, explain why you might vomit in this situation.\\n\\n(answer here)\\n\\n\\n'"
            ]
          },
          "metadata": {},
          "execution_count": 58
        },
        {
          "output_type": "display_data",
          "data": {
            "image/png": "[encoded data removed]",
            "text/plain": [
              "<Figure size 1080x360 with 3 Axes>"
            ]
          },
          "metadata": {
            "needs_background": "light"
          }
        }
      ]
    },
    {
      "cell_type": "code",
      "metadata": {
        "id": "H1v1k4sEXFLB"
      },
      "source": [
        "# "
      ],
      "execution_count": null,
      "outputs": []
    },
    {
      "cell_type": "markdown",
      "metadata": {
        "id": "yGbgRUrJa26l"
      },
      "source": [
        "# Case 3: Ambiguity Due to a Nuisance Parameter in ColorVision\n",
        "\n",
        "We switch domains once again and apply a Bayesian approach to the central problem of color vision (Brainard and Freeman, 1997), simplified to a problem for grayscale surfaces. We see a surface when there is a light source. The surface absorbs some proportion of the incident photons and reflects the rest. Some of the reflected photons reach our retina.\n",
        "\n",
        "## Step 1: Generative Model\n",
        "\n",
        "The diagram of the generative model is: \\\n",
        "![gestalt-law-graphic](https://drive.google.com/uc?export=view&id=1TfQJAAPbN2AZirizhZPMvtiOMS2jRm7j) \\\n",
        "\n",
        "The ‘‘shade’’ of a surface is the grayscale in which a surface has been painted. Technically, shade is ‘‘reflectance,’’ the proportion of incident light that is reflected. Black paper might have a reflectance of 0.10, while white paper might have a reflectance of 0.90. The ‘‘intensity of a light source’’ (illuminant) is the amount of light it emits. Surface shade and light intensity are the world state variables relevant to this problem.\n",
        "\n",
        "The sensory observation is the amount of light measured by the retina, which we will also refer to as retinal intensity. The retinal intensity can be calculated as follows:\n",
        "\n",
        "\n",
        "> Retinal intensity = surface shade x light intensity \n",
        "\n",
        "\n",
        "In other words, if you make a surface twice as reflectant, it has the same effect on your retina as doubling the intensity of the light source.\n",
        "\n",
        "\n",
        "## Step 2: Inference\n",
        "\n",
        "Let’s take each of these numbers to be between 0 (representing black) and 1 (representing white). For example, if the surface shade is 0.5 (mid-level gray) and the light intensity is 0.2 (very dim light), then the retinal intensity is\n",
        " > 0.5 x 0.2 = 0.1.\n",
        "\n",
        "\n",
        "**Task 6a:**\n",
        "\n",
        "1. **Suppose your retinal intensity is 0.2. Suppose further that you hypothesize the light intensity to be 1 (very bright light). Under that hypothesis, calculate what the surface shade must have been.**\n",
        "\n",
        "2. **Suppose your retinal intensity is the same 0.2. Suppose further that you hypothesize the light intensity to be 0.4. Under that hypothesis, calculate what the surface shade must have been.**\n",
        "\n",
        "3. **Explain why the retinal intensity provides ambiguous infor- mation about surface shade.**\n",
        "\n"
      ]
    },
    {
      "cell_type": "code",
      "metadata": {
        "colab": {
          "base_uri": "https://localhost:8080/",
          "height": 37
        },
        "id": "jk9SuSIEf623",
        "outputId": "158298b8-1bc9-4714-ed5d-6882f2c285ee"
      },
      "source": [
        "def compute_retinal_intensity(light_intensity, surface_shade):\n",
        "  retinal_intensity = surface_shade * light_intensity \n",
        "  return retinal_intensity\n",
        "\n",
        "\n",
        "retinal_intensity = 0.2 \n",
        "light_intensity = 1 \n",
        "surface_shade = NotImplemented\n",
        "\n",
        "retinal_intensity = 0.4\n",
        "light_intensity = 0.4\n",
        "surface_shade = NotImplemented\n",
        "\n",
        "'''\n",
        "Explain why the retinal intensity provides ambiguous information about surface shade.\n",
        "\n",
        "(answer here)\n",
        "\n",
        "'''"
      ],
      "execution_count": null,
      "outputs": [
        {
          "output_type": "execute_result",
          "data": {
            "application/vnd.google.colaboratory.intrinsic+json": {
              "type": "string"
            },
            "text/plain": [
              "'\\nExplain why the retinal intensity provides ambiguous information about surface shade.\\n\\n(answer here)\\n\\n'"
            ]
          },
          "metadata": {},
          "execution_count": 60
        }
      ]
    },
    {
      "cell_type": "markdown",
      "metadata": {
        "id": "YNEPGjf4H3ml"
      },
      "source": [
        "**Task 6b:**\n",
        "\n",
        "1. **Suppose your retinal intensity is again 0.2. By going through a few more examples like the ones in (a) and (b), draw in the two-variable likelihood diagram in Figure 3 all combinations of hypothesized surface shade and hypoth- esized light intensity that could have produced your retinal intensity of 0.2. Think of this plot as a 3D plot (surface plot)!**\n",
        "\n",
        "2. **Explain the statement : *The curve that we just drew represents the combinations of surface shade and light intensity that have a high likelihood***\n",
        "\n",
        "3. **Suppose you have a strong prior that light intensity was between 0.2 and 0.4 and definitely nothing else. In the two- variable prior diagram in Figure 3 (center), shade the area corresponding to this prior.**\n",
        "\n",
        "4. **In the two-variable posterior diagram in Figure 3 (right), indicate where the posterior probability is high.**\n",
        "\n",
        "\n",
        "5. **What would you perceive according to the Bayesian theory?**\n",
        "\n",
        "\n",
        "\n"
      ]
    },
    {
      "cell_type": "code",
      "metadata": {
        "colab": {
          "base_uri": "https://localhost:8080/",
          "height": 326
        },
        "id": "UFfSAShlIqRk",
        "outputId": "8729370f-9d00-4448-db59-8fe3df4ba4a8"
      },
      "source": [
        "fig, ax = plt.subplots(1,3, figsize = (12,4)) \n",
        "\n",
        "for i, label in enumerate(['Likelihood', 'Prior', 'Posterior']):\n",
        "  ax[i].grid()\n",
        "  ax[i].set_xlim(0,1)\n",
        "  ax[i].set_ylim(0,1)\n",
        "  ax[i].set_title(label, y = 1.05)\n",
        "\n",
        "  if i == 0: ax[i].set_ylabel('Hypothesized surface shade')\n",
        "  if i == 1: ax[i].set_xlabel('Hypothesized light intensity')\n",
        "\n",
        "\n",
        "#likelihood (6b.2; suppose retinal_intensity = 0.2)\n",
        "\n",
        "#hypothesized_surface_shade = NotImplemented\n",
        "#hypothesized_light_intensity =  NotImplemented \n",
        "#ax[0].plot(NotImplemented, NotImplemented)\n",
        "\n",
        "#prior (6b.3)\n",
        "#ax[1].fill_betweenx(y = NotImplemented, x1 = NotImplemented x2 = NotImplemented)\n",
        "\n",
        "#posterior (6b.4)\n",
        "#ax[2].plot(NotImplemented, NotImplemented)\n",
        "\n",
        "\n",
        "'''\n",
        "(6b.5)\n",
        "What would you perceive according to the Bayesian theory?\n",
        "\n",
        "(answer here)\n",
        "\n",
        "''' "
      ],
      "execution_count": null,
      "outputs": [
        {
          "output_type": "execute_result",
          "data": {
            "application/vnd.google.colaboratory.intrinsic+json": {
              "type": "string"
            },
            "text/plain": [
              "'\\n(6b.5)\\nWhat would you perceive according to the Bayesian theory?\\n\\n(answer here)\\n\\n'"
            ]
          },
          "metadata": {},
          "execution_count": 61
        },
        {
          "output_type": "display_data",
          "data": {
            "image/png": "[encoded data removed]",
            "text/plain": [
              "<Figure size 864x288 with 3 Axes>"
            ]
          },
          "metadata": {
            "needs_background": "light"
          }
        }
      ]
    },
    {
      "cell_type": "markdown",
      "metadata": {
        "id": "BGQxTwlFOm6R"
      },
      "source": [
        "# Case 4: Inference under Measurement Noise in Sound Localization \n",
        "\n",
        "\n",
        "The previous cases featured categorically distinct scenarios. We\n",
        "now consider a continuous estimation task—for example,\n",
        "locating a sound on a line. This will allow us to introduce the\n",
        "concept of noise in the internal measurement of the stimulus.\n",
        "This case would be uninteresting without such noise.\n",
        "\n",
        "## Step 1: Generative Model \n",
        "\n",
        "\n",
        "The stimulus is the location of the sound. The sensory observations generated by the sound location consist of a complex\n",
        "pattern of auditory neural activity, but for the purpose of our\n",
        "model, and reflecting common practice, we reduce the sensory observations to a single scalar, namely a noisy internal measurement x. The measurement lives in the same space as the stimulus itself—in this case, the real line.\n",
        "\n",
        "\n",
        "For example, if the true location s of the sound is 3° to the right of straight ahead, then its measurement x could be 2.7° or 3.1°. \n",
        "\n",
        "Thus, the problem contains two variables: the stimulus s and\n",
        "the observer’s measurement x. Each node in the graph is\n",
        "associated with a probability distribution: the stimulus node\n",
        "with a stimulus distribution $p(s)$ and the measurement node\n",
        "with a measurement distribution $p(x \\vert s)$ that depends on the\n",
        "value of the stimulus. \n",
        "\n",
        "**Task 7a:**\n",
        "\n",
        "**Please draw the generative model of the task and discuss what the nodes and relationships mean. Further make sure you understand the different kind of distributions: world-state, measurement, prior, likelihood, posterior, response distribution. Indicate whether they are objective or subjective.**"
      ]
    },
    {
      "cell_type": "code",
      "metadata": {
        "colab": {
          "base_uri": "https://localhost:8080/",
          "height": 34
        },
        "id": "d3n9gkc_Wqf8",
        "outputId": "8dc23dfa-b7ad-4c14-ebf1-f8426e0f7b4a"
      },
      "source": [
        "generative_model = graphviz.Digraph(comment='Generative Model Sound Localization')\n",
        "\n",
        "#nodes \n",
        "#generative_model.node('A', label = '', shape = 'circle')\n",
        "\n",
        "#edges \n",
        "#generative_model.edges([['A'])\n",
        "\n",
        "\n",
        "generative_model"
      ],
      "execution_count": null,
      "outputs": [
        {
          "output_type": "execute_result",
          "data": {
            "text/plain": [
              "<graphviz.dot.Digraph at 0x7fedc6491a10>"
            ],
            "image/svg+xml": "<?xml version=\"1.0\" encoding=\"UTF-8\" standalone=\"no\"?>\n<!DOCTYPE svg PUBLIC \"-//W3C//DTD SVG 1.1//EN\"\n \"http://www.w3.org/Graphics/SVG/1.1/DTD/svg11.dtd\">\n<!-- Generated by graphviz version 2.40.1 (20161225.0304)\n -->\n<!-- Title: %3 Pages: 1 -->\n<svg width=\"8pt\" height=\"8pt\"\n viewBox=\"0.00 0.00 8.00 8.00\" xmlns=\"http://www.w3.org/2000/svg\" xmlns:xlink=\"http://www.w3.org/1999/xlink\">\n<g id=\"graph0\" class=\"graph\" transform=\"scale(1 1) rotate(0) translate(4 4)\">\n<title>%3</title>\n<polygon fill=\"#ffffff\" stroke=\"transparent\" points=\"-4,4 -4,-4 4,-4 4,4 -4,4\"/>\n</g>\n</svg>\n"
          },
          "metadata": {},
          "execution_count": 62
        }
      ]
    },
    {
      "cell_type": "markdown",
      "metadata": {
        "id": "wFsSS5FXWo8g"
      },
      "source": [
        "In our example, say that the experimenter has programmed $p(s)$ to be Gaussian with a mean $\\mu$\n",
        "and variance $\\sigma^2_s$. \n",
        "\n",
        "Thus the distribution of stimuli in the world follow the gaussian distribution: \n",
        "$$\n",
        "p(s) = \\frac{1}{\\sqrt{2\\pi \\sigma^2_s}} e^{-\\frac{(s-\\mu)^2}{2\\sigma^2_s}}\n",
        "$$"
      ]
    },
    {
      "cell_type": "code",
      "metadata": {
        "colab": {
          "base_uri": "https://localhost:8080/",
          "height": 287
        },
        "id": "SpX69txGOhJT",
        "outputId": "984d5209-280d-4a2b-93e7-27f08bfb055f"
      },
      "source": [
        "def gaussian(x, mu, sig):\n",
        "    return 1./(np.sqrt(2.*np.pi)*sig)*np.exp(-np.power((x - mu)/sig, 2.)/2)\n",
        "\n",
        "''' \n",
        "A Gaussian distribution over the stimulus, p(s), \n",
        "reflecting the frequency of occurrence of each stimulus value in the world. \n",
        "This distribution is controlled by the experimenter, and thus is an objective \n",
        "probability. \n",
        "''' \n",
        "s = np.linspace(-10, 10, 1000)\n",
        "\n",
        "mu = 0\n",
        "sigma_s = 3\n",
        "\n",
        "plt.plot(s, gaussian(s, mu = mu, sig = sigma_s), color = 'black'); \n",
        "#plt.annotate()\n",
        "plt.yticks([])\n",
        "ax = plt.gca(); ax.spines['top'].set_color('none'); ax.spines['left'].set_position('zero'); ax.spines['right'].set_color('none'); ax.spines['bottom'].set_position('zero')\n",
        "ax.set_ylabel('Probability (frequency)', labelpad = 115)\n",
        "ax.set_xlabel('Stimulus s')"
      ],
      "execution_count": null,
      "outputs": [
        {
          "output_type": "execute_result",
          "data": {
            "text/plain": [
              "Text(0.5, 0, 'Stimulus s')"
            ]
          },
          "metadata": {},
          "execution_count": 100
        },
        {
          "output_type": "display_data",
          "data": {
            "image/png": "[encoded data removed]",
            "text/plain": [
              "<Figure size 432x288 with 1 Axes>"
            ]
          },
          "metadata": {
            "needs_background": "light"
          }
        }
      ]
    },
    {
      "cell_type": "markdown",
      "metadata": {
        "id": "_70c9Y78X1Ac"
      },
      "source": [
        "In a particular trial of the experiment the subject experiences world state s as drawn by the experimenters world state distribution p(s). \n",
        "\n",
        "The ‘‘measurement distribution’’ is the distribution of the measurement x for a given stimulus value s. We make the common assumption that the measurement distribution is Gaussian:\n",
        "\n",
        "$$\n",
        "p(x \\vert s) = \\frac{1}{\\sqrt{2\\pi \\sigma^2}} e^{-\\frac{(x-s)^2}{2\\sigma^2}}\n",
        "$$\n",
        "\n",
        "where $\\sigma$ is the standard deviation of the measurement noise, also called *measurement noise level* or *sensory noise level*. This Gaussian distribution is shown in Figure 4B. The higher $\\sigma$, the noisier the measurement and the wider its distribution. The Gaussian assumption can be justified using the Central Limit Theorem.\n"
      ]
    },
    {
      "cell_type": "code",
      "metadata": {
        "colab": {
          "base_uri": "https://localhost:8080/",
          "height": 607
        },
        "id": "6qNOV290X0FL",
        "outputId": "dfcb9d8d-c765-4e9b-e601-0158ca53fa85"
      },
      "source": [
        "''' \n",
        "Suppose we now fix a particular value of s (the dotted line). \n",
        "Then, the measurements x will follow a Gaussian distribution around that s. \n",
        "The diagram at the bottom shows a few samples of x, \n",
        "which are scattered around the true sound location s, indicated by the arrow.\n",
        "''' \n",
        "\n",
        "fig, ax = plt.subplots(2,1, figsize = (5,10))\n",
        "\n",
        "x = np.linspace(-10, 10, 1000)\n",
        "\n",
        "\n",
        "#s_sampled = np.random.normal(mu, sigma_s)\n",
        "s_sampled = 3.5\n",
        "\n",
        "mu = 0\n",
        "sigma_s = 1.5\n",
        "\n",
        "ax[0].plot(x, gaussian(x, mu = s_sampled, sig = sigma_s), color = 'black'); \n",
        "ax[0].axvline(s_sampled, ls = '--')\n",
        "#plt.annotate()\n",
        "ax[0].set_xticks([s_sampled], ['s'])\n",
        "ax[0].set_yticks([])\n",
        "ax[0].set_ylabel('Probability (frequency)', labelpad = 120)\n",
        "ax[0].set_xlabel('Measurement x', labelpad = 10)\n",
        "ax[0].spines['top'].set_color('none'); ax[0].spines['left'].set_position('zero'); ax[0].spines['right'].set_color('none'); ax[0].spines['bottom'].set_position('zero')\n",
        "\n",
        "ax[1].axvline(s_sampled, color = 'black', lw = 1)\n",
        "s_sampled = np.random.normal(s_sampled, sigma_s, 10)\n",
        "\n",
        "ax[1].scatter(s_sampled, np.zeros_like(s_sampled))\n",
        "#plt.annotate()\n",
        "ax[1].set_xticks([])\n",
        "ax[1].set_yticks([])\n",
        "ax[1].set_xlim(-10,10)\n",
        "ax[1].set_ylim(-0.01,0.25)\n",
        "ax[1].set_xlabel('S', labelpad = 15)\n",
        "ax[1].set_title('Multiple measurements x from s')\n",
        "\n",
        "ax = ax[1]; ax.spines['top'].set_color('none'); ax.spines['left'].set_visible(False); ax.spines['right'].set_color('none'); ax.spines['bottom'].set_position('zero')\n"
      ],
      "execution_count": null,
      "outputs": [
        {
          "output_type": "stream",
          "name": "stderr",
          "text": [
            "/usr/local/lib/python3.7/dist-packages/ipykernel_launcher.py:22: MatplotlibDeprecationWarning: Passing the minor parameter of set_xticks() positionally is deprecated since Matplotlib 3.2; the parameter will become keyword-only two minor releases later.\n"
          ]
        },
        {
          "output_type": "display_data",
          "data": {
            "image/png": "[encoded data removed]",
            "text/plain": [
              "<Figure size 360x720 with 2 Axes>"
            ]
          },
          "metadata": {
            "needs_background": "light"
          }
        }
      ]
    },
    {
      "cell_type": "markdown",
      "metadata": {
        "id": "kGgjr_lR3zhz"
      },
      "source": [
        "## Step 2a: Inference \n",
        "\n",
        "\n",
        "### The Likelihood Function \n",
        "On a given trial, the observer makes a measurement $x_{trial}$. The inference problem is: what stimulus estimate should the observer make?\n",
        "\n",
        "We introduced the stimulus distribution $p(s)$, which reflects how often each stimulus value tends to occur in the experiment. Suppose that the observer has learned this distribution through training. \n",
        "\n",
        "Then, the observer will already have an expectation about the stimulus before it even appears. This expectation constitutes prior knowledge, and, therefore, in the inference process, p(s) is referred to as the *prior distribution* (Figure 5A). Unlike the stimulus distribution in the generative model, the prior distribution reflects the observer’s beliefs and is thus a subjective probability.  \n",
        "\n",
        "The likelihood function represents the observer’s belief about the stimulus based on the measurement only absent any prior knowledge. Formally, the likelihood is the probability of the observed measurement under a hypothesized stimulus:\n",
        "\n",
        "$$\n",
        "L(s) = p(x_{trial} \\vert s)\n",
        "$$\n",
        "\n",
        "As stated in Section 2.2, the likelihood function is a function of s, not of x. The x variable is now fixed to the observed value $x_{trial}$. Under our assumption for the measurement distribution $p(x \\vert s)$, the likelihood function over the stimulus is\n",
        "\n",
        "$$\n",
        "L(s) = \\frac{1}{\\sqrt{2\\pi \\sigma^2}} e^{-\\frac{(x-s)^2}{2\\sigma^2}}\n",
        "$$\n",
        "\n",
        "\n",
        "(Although this particular likelihood is normalized over s, that is not generally true. This is why the likelihood function is called a function and not a distribution.) The width of the likelihood function is interpreted as the observer’s level of uncertainty based on the measurements alone.\n",
        "\n",
        "\n",
        "### The Posterior Distribution\n",
        "The posterior distribution is $p(s\\vert x_{trial)}$, the probability density function over the stimulus variable s given the measurement $x_{trial}$. We rewrite Bayes’ rule as\n",
        "\n",
        "$$\n",
        "p(s \\vert x_{trial}) \\propto p(x_{trial} \\vert s) p(s) = L(s)p(s) \n",
        "$$\n",
        "\n",
        "**Task 7b**\n",
        "1. **Why can we get away with the proportionality sign?**\n",
        "\n",
        "The previous equation assigns a probability to each possible hypothesized value of the unknown stimulus s. We will now compute the posterior distributions under the assumptions we made in step 1.\n",
        "\n",
        "Upon substituting the expressions for $L(s)$ and $p(s)$ into the equation, we \n",
        "see that in order to compute the posterior, we need to compute the product of two Gaussian functions. \n",
        "\n",
        "![gestalt-law-graphic](https://drive.google.com/uc?export=view&id=1NohtyJgMn7GDwtnAkCoxH9cBx2TadRHF) \\\n",
        "\n",
        "2. **Create a figure similar to the figure above through numerical computation of the posterior. Numerically normalize prior, likelihood, and posterior.**"
      ]
    },
    {
      "cell_type": "code",
      "metadata": {
        "id": "hCIosB-880qG"
      },
      "source": [
        "''' \n",
        "Create the figure through numerical computation\n",
        "''' \n",
        "\n",
        "def gaussian(x, mu, sig):\n",
        "    return 1./(np.sqrt(2.*np.pi)*sig)*np.exp(-np.power((x - mu)/sig, 2.)/2)\n",
        "\n",
        "x = np.linspace(-10, 10, 1000)\n",
        "\n",
        "likelihood = NotImplemented \n",
        "prior = NotImplemented\n",
        "posterior = NotImplemented\n",
        "\n",
        "\n",
        "#\n",
        "plt.plot()\n"
      ],
      "execution_count": null,
      "outputs": []
    },
    {
      "cell_type": "markdown",
      "metadata": {
        "id": "WR_H0M2o9GEN"
      },
      "source": [
        "# Exploring the Inference \n",
        "\n",
        "You can compare your solution of the previous exercise with this one, and consider the effect of different $\\mu$ and $\u001c\\sigma$ on the inference. \n",
        "\n",
        "**Task 7c**\n",
        "\n",
        "Let’s consider the following questions using the following interactive demo:\n",
        "\n",
        "* **For a Gaussian posterior, explain how the information seems to be combining. (Hint: think about the prior exercises!)**\n",
        "* **What is the difference between the posterior here and the Gaussian that represented the average of two Gaussians in the exercise above?**\n",
        "* **How should we think about the relative weighting of information between the prior and posterior?**\n"
      ]
    },
    {
      "cell_type": "code",
      "metadata": {
        "cellView": "form",
        "id": "ijHbp5M3hfMl"
      },
      "source": [
        "# @title Helper Functions (Please execute)\n",
        "\n",
        "%matplotlib inline\n",
        "%config InlineBackend.figure_format = 'retina'\n",
        "import numpy as np\n",
        "import matplotlib.pyplot as plt \n",
        "import ipywidgets as widgets\n",
        "from IPython.display import clear_output\n",
        "from ipywidgets import FloatSlider, Dropdown, interactive_output\n",
        "from ipywidgets import interact, fixed, HBox, Layout, VBox, interactive, Label\n",
        "\n",
        "def gaussian(x, μ, σ):\n",
        "    \"\"\" Compute Gaussian probability density function for given value of the\n",
        "    random variable, mean, and standard deviation\n",
        "\n",
        "    Args:\n",
        "      x (scalar): value of random variable\n",
        "      μ (scalar): mean of Gaussian\n",
        "      σ (scalar): standard deviation of Gaussian\n",
        "\n",
        "    Returns:\n",
        "      scalar: value of probability density function\n",
        "    \"\"\"\n",
        "    return np.exp(-((x - μ) / σ)**2 / 2) / np.sqrt(2 * np.pi * σ**2)\n",
        "\n",
        "def product_guassian(mu1, mu2, sigma1, sigma2):\n",
        "    J_1, J_2 = 1/sigma1**2, 1/sigma2**2\n",
        "    J_3 = J_1 + J_2\n",
        "    mu_prod = (J_1*mu1/J_3) + (J_2*mu2/J_3)\n",
        "    sigma_prod = np.sqrt(1/J_3)\n",
        "    return mu_prod, sigma_prod\n",
        "\n",
        "def plot_bayes(mu1, mu2, sigma1, sigma2):\n",
        "    x = np.linspace(-7, 7, 1000, endpoint=True)\n",
        "    prior = gaussian(x, mu1, sigma1)\n",
        "    likelihood = gaussian(x, mu2, sigma2)\n",
        "\n",
        "    mu_post, sigma_post = product_guassian(mu1, mu2, sigma1, sigma2)\n",
        "    posterior = gaussian(x, mu_post, sigma_post)\n",
        "\n",
        "    plt.figure(figsize=(8, 6))\n",
        "    plt.plot(x, prior, c='b', label='prior')\n",
        "    plt.fill_between(x, prior, color='b', alpha=0.2)\n",
        "    plt.plot(x, likelihood, c='r', label='likelihood')\n",
        "    plt.fill_between(x, likelihood, color='r', alpha=0.2)\n",
        "    plt.plot(x, posterior, c='k', label='posterior')\n",
        "    plt.fill_between(x, posterior, color='k', alpha=0.2)\n",
        "    plt.yticks([])\n",
        "    plt.legend(loc=\"upper left\")\n",
        "    plt.ylabel('$\\mathcal{N}(x, \\mu, \\sigma^2)$')\n",
        "    plt.xlabel('x')\n",
        "    plt.show()\n",
        "\n",
        "\n",
        "def calc_mean_mode_median(x, y):\n",
        "    \"\"\"\n",
        "\n",
        "    \"\"\"\n",
        "    pdf = y * (x[1] - x[0])\n",
        "    # Calc mode of an arbitrary function\n",
        "    mode = x[np.argmax(pdf)]\n",
        "\n",
        "    # Calc mean of an arbitrary function\n",
        "    mean = np.multiply(x, pdf).sum()\n",
        "\n",
        "    # Calc median of an arbitrary function\n",
        "    cdf = np.cumsum(pdf)\n",
        "    idx = np.argmin(np.abs(cdf - 0.5))\n",
        "    median = x[idx]\n",
        "\n",
        "    return mean, median, mode"
      ],
      "execution_count": null,
      "outputs": []
    },
    {
      "cell_type": "markdown",
      "metadata": {
        "id": "Uea0YWBql_PP"
      },
      "source": []
    },
    {
      "cell_type": "code",
      "metadata": {
        "colab": {
          "base_uri": "https://localhost:8080/",
          "height": 483,
          "referenced_widgets": [
            "10d1b157967348f5bbf8936b0b8b5462",
            "feb61f97f5e1435abefbe52126b077e7",
            "0369b259add34ff78121036ee3120bcb",
            "1906626d8a454eb5b15d5e8e9da5dbd1",
            "421d85cbef0347b08d5aa3d7b9e63ea0",
            "81efe3cbb0a3473b9971a689a0b4e993",
            "ec54347e57f746bb98c45865cdd6b6a2",
            "70a3ba3144b74026982e37d0bbc77fde",
            "4d4653aadc2548b987bf4b369cd10754",
            "2a7ef673671e4dcbaa9d876e0f585bc2",
            "d47994eabfe84325ae0457d0ee99f6a2",
            "e4b96fe4ca8847e59e42b422ffb4d363",
            "0d5bbd826240438d9458ece10b51d3fa",
            "cc57bf96f8d7447586d127e9370dcb05",
            "4eff55b2781742069c501ddbe4698f0c",
            "f3b01b2b8397409b9dcdf88cbbcc0242",
            "11a276dbbd82442b88fcf0288e827495",
            "c00ac040b7dd4748a1fdb07ffcfbdf4e",
            "61f93177bcaf40a6858688450db7532a",
            "f14954ad0d7849dcb5e452edcaaae845",
            "0e60d3b13a094b83b6fff23828b5cbcc",
            "8eebbcb5d5704ea2aa76bb0ed71f8498",
            "8c6cdfd9ea7b457996a46c2d9aa4b976",
            "00d7470134ae42ae8d7c256b14e19a97",
            "17b523d46a764ab1908f1d2813934424",
            "dbcc957588db4906bd787bdb05c9c9b0"
          ]
        },
        "id": "P3utYtOIxXuX",
        "outputId": "f76ef8ea-9047-4a18-9ed4-995b6cd9c099"
      },
      "source": [
        "mu1_slider = FloatSlider(min=-4.0, max=4.0, step=0.01, value=-0.5, description=\"µ_prior\", continuous_update=True)\n",
        "mu2_slider = FloatSlider(min=-4.0, max=4.0, step=0.01, value=0.5, description=\"µ_likelihood\", continuous_update=True)\n",
        "sigma1_slider = FloatSlider(min=0.1, max=2.0, step=0.01, value=0.5, description=\"σ_prior\", continuous_update=True)\n",
        "sigma2_slider = FloatSlider(min=0.1, max=2.0, step=0.01, value=0.5, description=\"σ_likelihood\", continuous_update=True)\n",
        "distro1_label = Label(value=\"prior distribution\", layout=Layout(display=\"flex\", justify_content=\"center\"))\n",
        "distro2_label = Label(value=\"likelihood distribution\", layout=Layout(display=\"flex\", justify_content=\"center\"))\n",
        "\n",
        "widget_ui = HBox([VBox([distro1_label, mu1_slider, sigma1_slider]),\n",
        "                  VBox([distro2_label, mu2_slider, sigma2_slider])])\n",
        "\n",
        "widget_out = interactive_output(plot_bayes, {'mu1': mu1_slider,\n",
        "                                            'mu2': mu2_slider,\n",
        "                                            'sigma1': sigma1_slider,\n",
        "                                            'sigma2': sigma2_slider})\n",
        "display(widget_ui, widget_out)"
      ],
      "execution_count": null,
      "outputs": [
        {
          "output_type": "display_data",
          "data": {
            "application/vnd.jupyter.widget-view+json": {
              "model_id": "10d1b157967348f5bbf8936b0b8b5462",
              "version_minor": 0,
              "version_major": 2
            },
            "text/plain": [
              "HBox(children=(VBox(children=(Label(value='prior distribution', layout=Layout(display='flex', justify_content=…"
            ]
          },
          "metadata": {}
        },
        {
          "output_type": "display_data",
          "data": {
            "application/vnd.jupyter.widget-view+json": {
              "model_id": "17b523d46a764ab1908f1d2813934424",
              "version_minor": 0,
              "version_major": 2
            },
            "text/plain": [
              "Output()"
            ]
          },
          "metadata": {}
        }
      ]
    },
    {
      "cell_type": "markdown",
      "metadata": {
        "id": "maii1kqJChuw"
      },
      "source": [
        "## Step 2b: The Stimulus Estimate (response)\n",
        "\n",
        "We now estimate $s$ on the trial under consideration. We denote the estimate by $\\hat{s}$. As mentioned in Section 2.3, for a real-valued variable and a squared error loss function, the observer should use the mean of the posterior as the estimate.\n",
        "\n",
        "Thus,\n",
        "$$\n",
        "\\hat{s} = \\mu_{posterior} = \\frac{\\frac{x_{trial}}{\\sigma^2} + \\frac{\\mu}{\\sigma_s^2}}{\\frac{1}{\\sigma^2} + \\frac{1}{\\sigma^2_s}}\n",
        "$$\n",
        "\n",
        "This would be Bayesian observer's response in this localization task. \n",
        "\n",
        "## Step 3: Response Distribution\n",
        "\n",
        "We now like to use this model to predict subjects’ behavior in this experiment. To do so, we’d like to compare our predicted responses, $\\hat{s}$, to the subject’s actual responses. Looking for $\\hat{s}$, we note that, to compute a predicted response on a given trial, we need to know $x_{trial}$. But this is something we don’t know! $x_{trial}$ is the noisy measurement made by the observer’s sensory system, an internal variable to which an experimenter has no access.\n",
        "\n",
        "\n",
        "A common mistake in Bayesian modeling is to discuss the likelihood function (or the posterior distribution) as if it were a single, specific function in a given experimental condition. In the presence of noise in the observation/measurement, this is incorrect. Both the likelihood and the posterior depend on the measurement xtrial, which itself is randomly generated on each trial, and, therefore, the likelihood and posterior will ‘‘wiggle around’’ from trial to trial. \n",
        "\n",
        "This variability propagates to the estimate: the estimate $s$ also depends on the noisy measurement $x_{trial}$. Since $x_{trial}$ varies from trial to trial, so does the estimate: the stochasticity in the estimate is inherited from the stochasticity in the measurement $x_{trial}$. Hence, in response to repeated presentations of the same stimulus, the estimate will be a random variable with a probability distribution, which we will denote by $p(\\hat{s} \\vert s)$. \n",
        "\n",
        "So rather than comparing our model’s predicted responses to subjects’ actual responses on individual trials, we’ll instead use our model to predict the distribution over subjects’ responses for a given value of the stimulus. The predicted distribution is precisely $p(\\hat{s}\\vert s)$. To compare our Bayesian model with an observer’s behavior, we thus need to calculate this distribution.\n",
        "\n",
        "**Task 8** \\\n",
        "**Simulate the response distribution for 10 trials for the same stimulus s. How is it different from \n",
        "the posterior?**"
      ]
    },
    {
      "cell_type": "code",
      "metadata": {
        "id": "2MYzlT4iCep-"
      },
      "source": [
        "response = []\n",
        "\n",
        "# draw a stimulus from the world-state distribution p(s)\n",
        "\n",
        "for i in range():\n",
        "  \n",
        "  # obtain measurement x_trial from the measurement distribution. \n",
        "\n",
        "  # compute the posterior using the prior p(s) and the likelihood L(s)\n",
        "\n",
        "  # take the mean of the posterior as your final response \n",
        "\n",
        "  pass "
      ],
      "execution_count": null,
      "outputs": []
    },
    {
      "cell_type": "markdown",
      "metadata": {
        "id": "8-xRMGtFJBxO"
      },
      "source": [
        "We see that the variance of the estimate can be different from the variance of the posterior. Intuitively, the response distribution (the distribution of the observer’s posterior mean estimate) for a given true stimulus $s$ reflects the variability of behavioral responses we would find when repeatedly pre- senting the same stimulus $s$ many times. This is conceptually distinct from the internal uncertainty of the observer on a single given trial, which is not directly measurable. Because of a strong prior, a Bayesian observer could have consistent responses from trial to trial despite being very internally uncertain on any particular trial. This completes the model: the distribution $p(\\hat{s} \\vert s)$ can now be compared to human behavior."
      ]
    },
    {
      "cell_type": "code",
      "metadata": {
        "id": "afwoXng7JANr"
      },
      "source": [],
      "execution_count": null,
      "outputs": []
    }
  ]
}